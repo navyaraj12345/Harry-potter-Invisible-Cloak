{
 "cells": [
  {
   "cell_type": "code",
   "execution_count": 1,
   "metadata": {},
   "outputs": [],
   "source": [
    "import cv2\n",
    "import numpy as np \n",
    "import time "
   ]
  },
  {
   "cell_type": "code",
   "execution_count": 2,
   "metadata": {},
   "outputs": [],
   "source": [
    "cap = cv2.VideoCapture(0)\n",
    "back = cv2.imread(\"image.jpg\")"
   ]
  },
  {
   "cell_type": "code",
   "execution_count": 3,
   "metadata": {},
   "outputs": [],
   "source": [
    "while cap.isOpened(): \n",
    "    ret, frame = cap.read() #taking each frame\n",
    "    if ret:\n",
    "        hsv = cv2.cvtColor(frame, cv2.COLOR_BGR2HSV) #converting rgb to hsv\n",
    "        #cv2.imshow(\"hsv\",hsv)\n",
    "        #getting the hsv Value\n",
    "        #lower: hue - 10, 100, 100, higher: h+10, 255, 255\n",
    "        red = np.uint8([[0,0,255]]) #bgr value of red\n",
    "        hsv = cv2.cvtColor(frame, cv2.COLOR_BGR2HSV)\n",
    "        #print(hsv_red)\n",
    "        #threshold the hsv value to only get the red color\n",
    "        # ranges should be carefully chosen \n",
    "        # setting the lower and upper range for mask1 \n",
    "        lower_red = np.array([100, 40, 40])        \n",
    "        upper_red = np.array([100, 255, 255]) \n",
    "        mask1 = cv2.inRange(hsv, lower_red, upper_red) \n",
    "        # setting the lower and upper range for mask2  \n",
    "        lower_red = np.array([155, 40, 40]) \n",
    "        upper_red = np.array([180, 255, 255]) \n",
    "        mask2 = cv2.inRange(hsv, lower_red, upper_red) \n",
    "        # the above block of code could be replaced with \n",
    "        # some other code depending upon the color of your cloth  \n",
    "        mask1 = mask1 + mask2 \n",
    "  \n",
    "        # Refining the mask corresponding to the detected red color \n",
    "        mask1 = cv2.morphologyEx(mask1, cv2.MORPH_OPEN, np.ones((3, 3), \n",
    "                                         np.uint8), iterations = 2) \n",
    "        mask1 = cv2.dilate(mask1, np.ones((3, 3), np.uint8), iterations = 1) \n",
    "        mask2 = cv2.bitwise_not(mask1) \n",
    "  \n",
    "       # Generating the final output \n",
    "        res1 = cv2.bitwise_and(back, back, mask = mask1) \n",
    "        res2 = cv2.bitwise_and(frame, frame, mask = mask2) \n",
    "        final_output = cv2.addWeighted(res1, 1, res2, 1, 0) \n",
    "  \n",
    "        cv2.imshow(\"INVISIBLE MAN\", final_output) \n",
    "    \n",
    "        \n",
    "        if cv2.waitKey(5) == ord('q'):\n",
    "            break\n",
    "            \n",
    "cap.release()\n",
    "cv2.destroyAllWindows()           "
   ]
  },
  {
   "cell_type": "code",
   "execution_count": null,
   "metadata": {},
   "outputs": [],
   "source": []
  }
 ],
 "metadata": {
  "kernelspec": {
   "display_name": "Python 3",
   "language": "python",
   "name": "python3"
  },
  "language_info": {
   "codemirror_mode": {
    "name": "ipython",
    "version": 3
   },
   "file_extension": ".py",
   "mimetype": "text/x-python",
   "name": "python",
   "nbconvert_exporter": "python",
   "pygments_lexer": "ipython3",
   "version": "3.8.5"
  }
 },
 "nbformat": 4,
 "nbformat_minor": 4
}
